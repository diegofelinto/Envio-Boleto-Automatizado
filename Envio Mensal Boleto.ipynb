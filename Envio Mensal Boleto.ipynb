{
 "cells": [
  {
   "cell_type": "code",
   "execution_count": null,
   "id": "21ea1ea8",
   "metadata": {},
   "outputs": [],
   "source": [
    "# Impotar as bibliotecas\n",
    "import win32com.client as win32\n",
    "import pandas as pd\n",
    "import locale\n",
    "import os\n",
    "import numpy as np\n",
    "import fnmatch\n",
    "locale.setlocale(locale.LC_ALL, 'pt_BR')"
   ]
  },
  {
   "cell_type": "code",
   "execution_count": 46,
   "id": "2f525250-f129-40bb-b013-d0177b11b4e3",
   "metadata": {},
   "outputs": [],
   "source": [
    "# construir instância do aplicativo Outlook\n",
    "#olNS = olApp.GetNAmeSpace('MAPI')\n",
    "outlook = win32.Dispatch('outlook.application')\n",
    "mailItem = outlook.CreateItem(0)"
   ]
  },
  {
   "cell_type": "code",
   "execution_count": 47,
   "id": "b0002a9b-0e87-4935-b97f-9961d978d2ce",
   "metadata": {},
   "outputs": [],
   "source": [
    "# Importar base de dados\n",
    "df = pd.read_excel('Boletos/Pt2 - Relação de boletos emitidos para aposentados 072023.xls')"
   ]
  },
  {
   "cell_type": "code",
   "execution_count": 48,
   "id": "f4fd25a8-19aa-4425-8484-8bbb2eaaef88",
   "metadata": {},
   "outputs": [],
   "source": [
    "# Suponha que você tenha uma lista de arquivos com o CPF no nome\n",
    "arquivos = ['Boletos/Pt2 - Relação de boletos emitidos para aposentados 072023.xls']"
   ]
  },
  {
   "cell_type": "code",
   "execution_count": 49,
   "id": "4556b4c2-fc08-4341-9fe4-ca733071ff5b",
   "metadata": {},
   "outputs": [],
   "source": [
    "# Obtém o caminho absoluto para o diretório atual\n",
    "diretorio_atual = os.getcwd()\n",
    "\n",
    "# Obtém o caminho absoluto para a imagem de assinatura\n",
    "caminho_imagem_assinatura = os.path.join(diretorio_atual, \"Assinatura.jpg\")\n",
    "\n",
    "# Define a variável de assinatura com a tag <img> correta\n",
    "assinatura = f'<p>Atenciosamente,</p><img src=\"{caminho_imagem_assinatura}\" alt=\"Assinatura\">'"
   ]
  },
  {
   "cell_type": "code",
   "execution_count": null,
   "id": "4b643c54",
   "metadata": {},
   "outputs": [],
   "source": [
    "# verificando relacao\n",
    "df.head(5)"
   ]
  },
  {
   "cell_type": "code",
   "execution_count": null,
   "id": "70cb56b1",
   "metadata": {},
   "outputs": [],
   "source": [
    "# verificando relacao\n",
    "df.tail(5)"
   ]
  },
  {
   "cell_type": "code",
   "execution_count": null,
   "id": "a298fb05",
   "metadata": {},
   "outputs": [],
   "source": [
    "#Find Shape\n",
    "df.shape"
   ]
  },
  {
   "cell_type": "code",
   "execution_count": null,
   "id": "f2c3b627",
   "metadata": {},
   "outputs": [],
   "source": [
    "df.columns"
   ]
  },
  {
   "cell_type": "code",
   "execution_count": null,
   "id": "26a1c5b5",
   "metadata": {},
   "outputs": [],
   "source": [
    "#Find Data Types\n",
    "df.dtypes"
   ]
  },
  {
   "cell_type": "code",
   "execution_count": null,
   "id": "7a82bf81",
   "metadata": {},
   "outputs": [],
   "source": [
    "df.info"
   ]
  },
  {
   "cell_type": "code",
   "execution_count": null,
   "id": "b05a0431",
   "metadata": {},
   "outputs": [],
   "source": [
    "diretorio_atual = os.getcwd()\n",
    "assinatura = f'<p>Atenciosamente,</p><img src=\"cid:assinatura\" alt=\"Assinatura\">'\n",
    "\n",
    "for index, row in df.iterrows():\n",
    "    enderecos = row[\"E-MAIL\"]\n",
    "    nome_coop = row['Nome']\n",
    "    valor = row['Valor']\n",
    "    numero_formatado = '{:,.2f}'.format(valor).replace(',', 'X').replace('.', ',').replace('X', '.')\n",
    "    nosso_numero = row[\"Nosso Número\"]\n",
    "    boleto = str(nosso_numero)\n",
    "    nome_arquivo = row['Nosso Número']\n",
    "        \n",
    "    arquivo = os.path.join(os.getcwd(), 'boletos', f'{nosso_numero}.pdf')\n",
    "    \n",
    "    email = outlook.CreateItem(0)\n",
    "    email.To = enderecos\n",
    "    email.Subject = f'VENCIMENTO DE BOLETO COOPERATIVA - {nome_coop}'\n",
    "    email.HTMLBody = email.HTMLBody.replace(\"cid:assinatura\", f\"<img src=\\\"{caminho_imagem_assinatura}\\\" alt=\\\"Assinatura\\\">\")\n",
    "     \n",
    "    email.HTMLBody = f\"\"\"\n",
    "        <p><html><body>Prezado (a) Cooperado (a) <b>{nome_coop}</b>.</p>\n",
    "    \n",
    "        <p> Informamos que o seu boleto no valor de <b>R$ {numero_formatado}</b> referente a cota de capital e/ou parcela de empréstimo vencerá em 31/07/2023.</p>\n",
    "\n",
    "        <p> O boleto foi encaminhado por correio, está disponível no DDA do seu Banco e também em anexo.</p>\n",
    "\n",
    "        <p> Para mais informações e demais dúvidas favor entrar em contato com a equipe de cobrança através do e-mail <b>cobranca.cooperativa@sescsp.org.br</b>.</p>\n",
    "    \n",
    "        <p> Caso já tenha efetivado o pagamento desconsiderar este e-mail.</p>\n",
    "\n",
    "        <p> Atenciosamente,</p>\n",
    "    \n",
    "        <img src=\"cid:assinatura\" alt=\"Assinatura\">\n",
    "    \n",
    "        \"\"\"\n",
    "        \n",
    "    assinatura_id = \"Assinatura.jpg\"\n",
    "    email.Attachments.Add(caminho_imagem_assinatura, 1, 0, \"Assinatura.jpg\")\n",
    "    email.Attachments.Add(arquivo) #arquivo do pdf\n",
    "    email.HTMLBody = email.HTMLBody.replace(\"cid:assinatura\", f\"cid:{assinatura_id}\")\n",
    "    \n",
    "    email.Send()\n",
    "    \n",
    "print('E-MAILS ENVIADOS')"
   ]
  },
  {
   "cell_type": "code",
   "execution_count": null,
   "id": "d80a94c5-b332-4684-807d-be35376c3cc4",
   "metadata": {},
   "outputs": [],
   "source": []
  }
 ],
 "metadata": {
  "kernelspec": {
   "display_name": "Python 3 (ipykernel)",
   "language": "python",
   "name": "python3"
  },
  "language_info": {
   "codemirror_mode": {
    "name": "ipython",
    "version": 3
   },
   "file_extension": ".py",
   "mimetype": "text/x-python",
   "name": "python",
   "nbconvert_exporter": "python",
   "pygments_lexer": "ipython3",
   "version": "3.9.13"
  }
 },
 "nbformat": 4,
 "nbformat_minor": 5
}
